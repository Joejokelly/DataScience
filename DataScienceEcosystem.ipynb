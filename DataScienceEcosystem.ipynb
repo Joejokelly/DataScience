{
 "cells": [
  {
   "cell_type": "markdown",
   "id": "7a0c08ad-6155-4ba3-8a75-71eb2857d789",
   "metadata": {},
   "source": [
    "# Data Science Tools and Ecosystem"
   ]
  },
  {
   "cell_type": "markdown",
   "id": "738484ab-f8f7-46ab-837e-56976c2af400",
   "metadata": {},
   "source": [
    "# In this notebook, Data Science Tools and Ecosystem are summarized."
   ]
  },
  {
   "cell_type": "markdown",
   "id": "7fbd70b7-4018-4c18-8bf8-1c6621f96622",
   "metadata": {},
   "source": [
    "Some of the popular languages that Data Scientists use are:\n",
    "\n",
    "1. Python\n",
    "2. Java\n",
    "3. R \n"
   ]
  },
  {
   "cell_type": "markdown",
   "id": "6bf6a34a-c759-48bf-a730-1ea2a5ee2e53",
   "metadata": {},
   "source": [
    "Some of the commonly used libraries used by Data Scientists include:\n",
    "1. Pandas\n",
    "2. Scala\n",
    "3. Julia\n",
    "4. R\n",
    "5. Tensor Flow\n",
    "\n"
   ]
  },
  {
   "cell_type": "markdown",
   "id": "4f9c5788-1b38-43c8-9e35-a1409af66721",
   "metadata": {},
   "source": [
    "| Data Science Tools|\n",
    "|:---------------: |\n",
    "| Pandas         |\n",
    "| Apache Spark   |\n",
    "| Tensor Flow    |\n",
    "\n"
   ]
  },
  {
   "cell_type": "markdown",
   "id": "7894cbe8-ab0a-4ec6-bc3f-b0117cc23cb1",
   "metadata": {},
   "source": [
    "Below are a few examples of evaluating arithmetic expressions in Python.\n"
   ]
  },
  {
   "cell_type": "code",
   "execution_count": 2,
   "id": "1bf67760-f6f9-486f-9822-deaf8adc88ee",
   "metadata": {},
   "outputs": [
    {
     "data": {
      "text/plain": [
       "3.3333333333333335"
      ]
     },
     "execution_count": 2,
     "metadata": {},
     "output_type": "execute_result"
    }
   ],
   "source": [
    "200 / 60 "
   ]
  },
  {
   "cell_type": "code",
   "execution_count": 4,
   "id": "9309ba5b-fe89-4bef-8e88-a3f7710e85ee",
   "metadata": {},
   "outputs": [
    {
     "data": {
      "text/plain": [
       "17"
      ]
     },
     "execution_count": 4,
     "metadata": {},
     "output_type": "execute_result"
    }
   ],
   "source": [
    "(3*4)+5"
   ]
  },
  {
   "cell_type": "markdown",
   "id": "55eb7d45-b11f-4a0c-800a-288564a6ecfd",
   "metadata": {},
   "source": [
    "This a simple arithmetic expression to mutiply then add integers"
   ]
  },
  {
   "cell_type": "markdown",
   "id": "8d5aa7d3-b107-4d17-b611-12998fdc5e1f",
   "metadata": {},
   "source": [
    "# Objectives: \n",
    "\n",
    "* List of Popular languages for Data Science\n",
    "* Commonly used libraries used by Data Scientist\n",
    "* Data Science Tools\n"
   ]
  },
  {
   "cell_type": "markdown",
   "id": "7c5766a2-6649-4986-aa57-44dfca9468bb",
   "metadata": {},
   "source": [
    "## Author"
   ]
  },
  {
   "cell_type": "markdown",
   "id": "9f6f9890-a7fe-4bef-aba5-fcaf4f965f75",
   "metadata": {},
   "source": [
    "Joseph OKelly"
   ]
  },
  {
   "cell_type": "code",
   "execution_count": null,
   "id": "39389754-8cf5-4ca6-8266-d4402916adc6",
   "metadata": {},
   "outputs": [],
   "source": []
  }
 ],
 "metadata": {
  "kernelspec": {
   "display_name": "Python 3 (ipykernel)",
   "language": "python",
   "name": "python3"
  },
  "language_info": {
   "codemirror_mode": {
    "name": "ipython",
    "version": 3
   },
   "file_extension": ".py",
   "mimetype": "text/x-python",
   "name": "python",
   "nbconvert_exporter": "python",
   "pygments_lexer": "ipython3",
   "version": "3.11.7"
  }
 },
 "nbformat": 4,
 "nbformat_minor": 5
}
